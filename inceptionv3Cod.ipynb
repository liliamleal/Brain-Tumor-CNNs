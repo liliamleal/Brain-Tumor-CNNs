{
 "cells": [
  {
   "cell_type": "code",
   "execution_count": null,
   "id": "755f5168-b323-47cf-a4db-dea3a85b8016",
   "metadata": {},
   "outputs": [],
   "source": [
    "import os\n",
    "import tensorflow as tf\n",
    "import cv2\n",
    "import shutil\n",
    "import splitfolders\n",
    "from keras.preprocessing.image import ImageDataGenerator\n",
    "from keras.applications.inception_v3 import preprocess_input\n",
    "from tensorflow.keras.applications.inception_v3 import InceptionV3\n",
    "from keras.models import Sequential\n",
    "from keras.models import Model\n",
    "from keras.callbacks import ModelCheckpoint, LearningRateScheduler, EarlyStopping, ReduceLROnPlateau, TensorBoard\n",
    "from keras import optimizers, losses, activations, models\n",
    "from keras.layers import Convolution2D, Dense, Input, Flatten, Dropout, MaxPooling2D, BatchNormalization, GlobalAveragePooling2D, Concatenate\n",
    "from keras import applications\n",
    "from tensorflow.keras.optimizers import RMSprop, SGD, Adam\n",
    "import numpy as np\n",
    "from sklearn.metrics import confusion_matrix, classification_report\n",
    "import pandas as pd\n",
    "import seaborn as sn"
   ]
  },
  {
   "cell_type": "code",
   "execution_count": null,
   "id": "027564aa-cc01-4b5b-b9eb-3f2f4f2ac6d5",
   "metadata": {},
   "outputs": [],
   "source": [
    "#import shutil\n",
    "\n",
    "#shutil.rmtree('./tumor-datasplited')"
   ]
  },
  {
   "cell_type": "code",
   "execution_count": null,
   "id": "94ec6664-88e2-4a71-95b4-40cfb87476f1",
   "metadata": {},
   "outputs": [],
   "source": [
    "#input_folder = \"./tumor-dataset\"\n",
    "\n",
    "#splitfolders.ratio(input_folder, output=\"tumor-datasplited\", seed=42, ratio=(.7,.2,.1), group_prefix=None)\n"
   ]
  },
  {
   "cell_type": "code",
   "execution_count": null,
   "id": "b3d94b0c-d827-42f3-baec-411fbe158659",
   "metadata": {},
   "outputs": [],
   "source": [
    "try:\n",
    "    #shutil.rmtree('./tumor-datasplited/.ipynb_checkpoints')\n",
    "    shutil.rmtree('./tumor-datasplited/test/.ipynb_checkpoints')\n",
    "    shutil.rmtree('./tumor-datasplited/train/.ipynb_checkpoints')\n",
    "    shutil.rmtree('./tumor-datasplited/val/.ipynb_checkpoints')\n",
    "except:\n",
    "    pass"
   ]
  },
  {
   "cell_type": "code",
   "execution_count": null,
   "id": "4f6835f8-798f-41d3-8e3f-a0b1f71e5b7a",
   "metadata": {},
   "outputs": [],
   "source": [
    "train_data = ImageDataGenerator(\n",
    "        rescale = 1./255,\n",
    "        rotation_range=40,\n",
    "        width_shift_range=0.2,\n",
    "        height_shift_range=0.2,\n",
    "        shear_range=0.2,\n",
    "        zoom_range=0.2,\n",
    "        horizontal_flip=True,\n",
    "        vertical_flip=True,\n",
    "        fill_mode='nearest',)\n",
    "traindata = train_data.flow_from_directory(directory=\"./tumor-datasplited/train\",target_size=(224,224), class_mode='categorical')\n",
    "\n",
    "val_data = ImageDataGenerator(\n",
    "        rescale = 1./255,\n",
    "        rotation_range=40,\n",
    "        width_shift_range=0.2,\n",
    "        height_shift_range=0.2,\n",
    "        shear_range=0.2,\n",
    "        zoom_range=0.2,\n",
    "        horizontal_flip=True,\n",
    "        vertical_flip=True,\n",
    "        fill_mode='nearest',)\n",
    "valdata = val_data.flow_from_directory(directory=\"./tumor-datasplited/val\",target_size=(224,224), class_mode='categorical')\n",
    "\n",
    "test_data = ImageDataGenerator(\n",
    "        rescale = 1./255,\n",
    "        rotation_range=40,\n",
    "        width_shift_range=0.2,\n",
    "        height_shift_range=0.2,\n",
    "        shear_range=0.2,\n",
    "        zoom_range=0.2,\n",
    "        horizontal_flip=True,\n",
    "        vertical_flip=True,\n",
    "        fill_mode='nearest',)\n",
    "testdata = test_data.flow_from_directory(directory=\"./tumor-datasplited/test\",target_size=(224,224), class_mode='categorical', shuffle=False)"
   ]
  },
  {
   "cell_type": "code",
   "execution_count": null,
   "id": "35a69514-002c-4ff4-8544-745dd57997da",
   "metadata": {},
   "outputs": [],
   "source": [
    "inception_model = applications.inception_v3.InceptionV3(weights='imagenet', \n",
    "                                include_top=False, \n",
    "                                input_shape=(224, 224,3))\n",
    "for layers in inception_model.layers:\n",
    "    layers.trainable=True"
   ]
  },
  {
   "cell_type": "code",
   "execution_count": null,
   "id": "a025d6a9-2ad5-4f26-9829-aab72a6a469e",
   "metadata": {},
   "outputs": [],
   "source": [
    "inception_x = Sequential()\n",
    "inception_x.add(inception_model)\n",
    "inception_x.add(GlobalAveragePooling2D())\n",
    "inception_x.add(Dropout(0.5))\n",
    "inception_x.add(Dense(3, activation='softmax'))"
   ]
  },
  {
   "cell_type": "code",
   "execution_count": null,
   "id": "aea9d5a3-8cc1-4790-a865-f52a4bafa6d2",
   "metadata": {},
   "outputs": [],
   "source": [
    "model = inception_x\n",
    "model.compile(loss='categorical_crossentropy', optimizer = Adam(learning_rate=0.001),metrics=['accuracy'])\n",
    "model.summary()"
   ]
  },
  {
   "cell_type": "code",
   "execution_count": null,
   "id": "a1f2d7f0-6d4a-4dc7-8c57-4f5772a8f61c",
   "metadata": {},
   "outputs": [],
   "source": [
    "checkpoint = ModelCheckpoint(\"INCEPTION_V3_2.h5\", monitor='val_accuracy', \n",
    "                             verbose=1, save_best_only=True, \n",
    "                             save_weights_only=False, mode='auto', period=1)\n",
    "\n",
    "early = EarlyStopping(monitor='val_accuracy', min_delta=0, patience=20, verbose=1, mode='auto')\n",
    "\n"
   ]
  },
  {
   "cell_type": "code",
   "execution_count": null,
   "id": "3f8d84b9-1c01-4622-a935-6a8041081dc2",
   "metadata": {},
   "outputs": [],
   "source": [
    "batch_size = 32\n",
    "\n",
    "hist = model.fit_generator(steps_per_epoch=(traindata.n//batch_size),generator=traindata, validation_data= valdata, validation_steps=(valdata.n//batch_size),epochs=100,callbacks=[checkpoint, early])"
   ]
  },
  {
   "cell_type": "code",
   "execution_count": null,
   "id": "5ec3826a-7b25-46de-8f84-8550ce2dec4d",
   "metadata": {},
   "outputs": [],
   "source": [
    "import matplotlib.pyplot as plt\n",
    "acc = hist.history['accuracy']\n",
    "val_acc = hist.history['val_accuracy']\n",
    "loss = hist.history['loss']\n",
    "val_loss = hist.history['val_loss']\n",
    "\n",
    "epochs = range(len(acc))\n",
    "\n",
    "plt.plot(epochs, acc, label='Acuracia de treinamento')\n",
    "plt.plot(epochs, val_acc, label='Acuracia de validacao')\n",
    "plt.title('Acuracia de treinamento e validacao')\n",
    "plt.legend()\n",
    "plt.figure()\n",
    "\n",
    "plt.plot(epochs, loss, label='Perda de treinamento')\n",
    "plt.plot(epochs, val_loss, label='Perda de validacao')\n",
    "plt.title('Perda de validacao e treinamento')\n",
    "plt.legend()\n",
    "\n",
    "Y_pred = model.predict(testdata)\n",
    "y_pred = np.argmax(Y_pred, axis=1)\n",
    "cm = confusion_matrix(testdata.classes, y_pred)\n",
    "df_cm = pd.DataFrame(cm, index = [i for i in ['glioma', 'meningioma', 'pituitary']],\n",
    "                  columns = [i for i in ['glioma', 'meningioma', 'pituitary']])\n",
    "plt.figure(figsize = (10,7))\n",
    "\n",
    "sn.heatmap(df_cm, annot=True, cmap=\"Reds\")\n",
    "print('Classification Report')\n",
    "target_names = ['glioma', 'meningioma', 'pituitary']\n",
    "print(classification_report(testdata.classes, y_pred, target_names=target_names))\n",
    "\n",
    "plt.show()"
   ]
  },
  {
   "cell_type": "code",
   "execution_count": null,
   "id": "42eb3791-eb74-40c4-91ce-8b22bb3cd211",
   "metadata": {},
   "outputs": [],
   "source": [
    "from tensorflow import keras\n",
    "model = keras.models.load_model('./INCEPTION_V3_2.h5')"
   ]
  },
  {
   "cell_type": "code",
   "execution_count": null,
   "id": "b6f2d93c-d2cb-4f8c-b78f-b65dce1fa83a",
   "metadata": {},
   "outputs": [],
   "source": [
    "import matplotlib.pyplot as plt\n",
    "\n",
    "Y_pred = model.predict(testdata)\n",
    "y_pred = np.argmax(Y_pred, axis=1)\n",
    "cm = confusion_matrix(testdata.classes, y_pred)\n",
    "df_cm = pd.DataFrame(cm, index = [i for i in ['glioma', 'meningioma', 'pituitary']],\n",
    "                  columns = [i for i in ['glioma', 'meningioma', 'pituitary']])\n",
    "plt.figure(figsize = (10,7))\n",
    "\n",
    "print(y_pred)\n",
    "\n",
    "sn.heatmap(df_cm, annot=True, cmap=\"Reds\")\n",
    "print('Classification Report')\n",
    "target_names = ['glioma', 'meningioma', 'pituitary']\n",
    "print(classification_report(testdata.classes, y_pred, target_names=target_names))\n",
    "\n",
    "plt.show()"
   ]
  },
  {
   "cell_type": "code",
   "execution_count": null,
   "id": "5964f07a-e435-4e8f-9f41-b70ff255ab77",
   "metadata": {},
   "outputs": [],
   "source": []
  }
 ],
 "metadata": {
  "kernelspec": {
   "display_name": "Python 3 (ipykernel)",
   "language": "python",
   "name": "python3"
  },
  "language_info": {
   "codemirror_mode": {
    "name": "ipython",
    "version": 3
   },
   "file_extension": ".py",
   "mimetype": "text/x-python",
   "name": "python",
   "nbconvert_exporter": "python",
   "pygments_lexer": "ipython3",
   "version": "3.9.7"
  }
 },
 "nbformat": 4,
 "nbformat_minor": 5
}
